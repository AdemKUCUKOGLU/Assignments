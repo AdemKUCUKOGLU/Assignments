{
 "cells": [
  {
   "cell_type": "code",
   "execution_count": 3,
   "id": "d91332f1-b577-4661-9e81-042dc6555415",
   "metadata": {},
   "outputs": [],
   "source": [
    "def prime_number():\n",
    "    \n",
    "    number = int(input(\"enter the number : \"))\n",
    "    if number <= 1: \n",
    "        print(\"please enter another number\")\n",
    "        return prime_number()\n",
    "    \n",
    "    for i in range(1, number):\n",
    "        if number % i != 0:\n",
    "            print(\"{} is a prime number.\".format(number) )\n",
    "            break\n",
    "        else:\n",
    "            print(\"{} is not a prime number.\".format(number) )\n",
    "            break"
   ]
  },
  {
   "cell_type": "code",
   "execution_count": 4,
   "id": "2d06689a-54a1-45fd-a71d-8b749db138db",
   "metadata": {},
   "outputs": [
    {
     "name": "stdout",
     "output_type": "stream",
     "text": [
      "enter the number : 5\n",
      "5 is not a prime number.\n"
     ]
    }
   ],
   "source": [
    "prime_number()"
   ]
  },
  {
   "cell_type": "code",
   "execution_count": null,
   "id": "73b81636-dd41-4000-8e86-c9fd3e9c58dc",
   "metadata": {},
   "outputs": [],
   "source": []
  },
  {
   "cell_type": "code",
   "execution_count": 37,
   "id": "6f5f397c",
   "metadata": {},
   "outputs": [],
   "source": []
  },
  {
   "cell_type": "code",
   "execution_count": null,
   "id": "1abb4dca",
   "metadata": {},
   "outputs": [],
   "source": []
  },
  {
   "cell_type": "code",
   "execution_count": 41,
   "id": "91646fe2",
   "metadata": {},
   "outputs": [],
   "source": []
  },
  {
   "cell_type": "code",
   "execution_count": null,
   "id": "1a791438",
   "metadata": {},
   "outputs": [],
   "source": []
  },
  {
   "cell_type": "code",
   "execution_count": null,
   "id": "4164c199",
   "metadata": {},
   "outputs": [],
   "source": []
  }
 ],
 "metadata": {
  "kernelspec": {
   "display_name": "Python 3",
   "language": "python",
   "name": "python3"
  }
 },
 "nbformat": 4,
 "nbformat_minor": 5
}
