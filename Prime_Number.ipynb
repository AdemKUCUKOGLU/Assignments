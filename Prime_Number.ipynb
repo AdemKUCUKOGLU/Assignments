{
 "cells": [
  {
   "cell_type": "code",
   "execution_count": 4,
   "id": "d91332f1-b577-4661-9e81-042dc6555415",
   "metadata": {},
   "outputs": [
    {
     "name": "stdin",
     "output_type": "stream",
     "text": [
      "enter the number :  6\n"
     ]
    },
    {
     "name": "stdout",
     "output_type": "stream",
     "text": [
      "6 is not a prime number.\n"
     ]
    }
   ],
   "source": [
    "#prime number\n",
    "number = int(input(\"enter the number : \"))\n",
    "\n",
    "for i in range(2, number):\n",
    "    if number % i != 0:\n",
    "        print(\"{} is a prime number.\".format(number) )\n",
    "        break\n",
    "    else:\n",
    "        print(\"{} is not a prime number.\".format(number) )\n",
    "        break"
   ]
  },
  {
   "cell_type": "code",
   "execution_count": null,
   "id": "2d06689a-54a1-45fd-a71d-8b749db138db",
   "metadata": {},
   "outputs": [],
   "source": []
  }
 ],
 "metadata": {
  "kernelspec": {
   "display_name": "Python 3",
   "language": "python",
   "name": "python3"
  },
  "language_info": {
   "codemirror_mode": {
    "name": "ipython",
    "version": 3
   },
   "file_extension": ".py",
   "mimetype": "text/x-python",
   "name": "python",
   "nbconvert_exporter": "python",
   "pygments_lexer": "ipython3",
   "version": "3.8.8"
  }
 },
 "nbformat": 4,
 "nbformat_minor": 5
}
